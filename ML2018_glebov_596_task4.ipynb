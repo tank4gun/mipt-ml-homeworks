{
 "cells": [
  {
   "cell_type": "code",
   "execution_count": 12,
   "metadata": {
    "colab": {
     "autoexec": {
      "startup": false,
      "wait_interval": 0
     },
     "base_uri": "https://localhost:8080/",
     "height": 34,
     "output_extras": [
      {
       "item_id": 1
      }
     ]
    },
    "colab_type": "code",
    "executionInfo": {
     "elapsed": 2738,
     "status": "ok",
     "timestamp": 1522144408102,
     "user": {
      "displayName": "Даня Глебов",
      "photoUrl": "//lh4.googleusercontent.com/-2wbxpk3_zDM/AAAAAAAAAAI/AAAAAAAAAHc/sAEFyXtqm80/s50-c-k-no/photo.jpg",
      "userId": "104748279279975035288"
     },
     "user_tz": -180
    },
    "id": "tOegSBOl_zML",
    "outputId": "0e3e17b4-b90a-4545-d7b3-68d16ee064b8"
   },
   "outputs": [],
   "source": [
    "import pandas as pd\n",
    "import numpy as np\n",
    "import sklearn\n",
    "from sklearn.ensemble import RandomForestClassifier\n",
    "from sklearn.linear_model import LogisticRegression\n",
    "from sklearn.model_selection import GridSearchCV, train_test_split, StratifiedKFold\n",
    "from sklearn.metrics import f1_score\n",
    "from tqdm import tqdm, tqdm_notebook\n",
    "import xgboost\n",
    "import matplotlib.pyplot as plt\n",
    "%matplotlib inline"
   ]
  },
  {
   "cell_type": "code",
   "execution_count": 3,
   "metadata": {
    "colab": {
     "autoexec": {
      "startup": false,
      "wait_interval": 0
     }
    },
    "colab_type": "code",
    "collapsed": true,
    "id": "pA1LYfQiI0mN"
   },
   "outputs": [],
   "source": [
    "data = pd.read_table('/home/dania_57_v/data/train.csv')\n",
    "test = pd.read_csv('test.csv')"
   ]
  },
  {
   "cell_type": "code",
   "execution_count": 4,
   "metadata": {
    "colab": {
     "autoexec": {
      "startup": false,
      "wait_interval": 0
     }
    },
    "colab_type": "code",
    "collapsed": true,
    "id": "pWNIxhsbJUEF"
   },
   "outputs": [],
   "source": [
    "data = data.dropna()\n",
    "data.drop(labels=['pdb_chain', 'DSSR'], axis=1, inplace=True)\n",
    "test.drop(labels=['pdb_chain', 'DSSR', 'index', 'Id'], axis=1, inplace=True)"
   ]
  },
  {
   "cell_type": "code",
   "execution_count": 26,
   "metadata": {
    "colab": {
     "autoexec": {
      "startup": false,
      "wait_interval": 0
     }
    },
    "colab_type": "code",
    "collapsed": true,
    "id": "vUdN28OMLsuQ"
   },
   "outputs": [],
   "source": [
    "alpha = 0.3\n",
    "\n",
    "def pred_to_class(predicted, alpha):\n",
    "    to_class = [1 if predicted[i][1] > alpha else 0 for i in range(len(predicted))]\n",
    "    return to_class"
   ]
  },
  {
   "cell_type": "code",
   "execution_count": 6,
   "metadata": {
    "colab": {
     "autoexec": {
      "startup": false,
      "wait_interval": 0
     },
     "base_uri": "https://localhost:8080/",
     "height": 34,
     "output_extras": [
      {
       "item_id": 1
      }
     ]
    },
    "colab_type": "code",
    "executionInfo": {
     "elapsed": 1269,
     "status": "ok",
     "timestamp": 1522144439012,
     "user": {
      "displayName": "Даня Глебов",
      "photoUrl": "//lh4.googleusercontent.com/-2wbxpk3_zDM/AAAAAAAAAAI/AAAAAAAAAHc/sAEFyXtqm80/s50-c-k-no/photo.jpg",
      "userId": "104748279279975035288"
     },
     "user_tz": -180
    },
    "id": "F99Qx6UQiueb",
    "outputId": "c90c59ba-0db8-4377-aab5-6f26a032f4bf"
   },
   "outputs": [
    {
     "data": {
      "text/plain": [
       "5"
      ]
     },
     "execution_count": 6,
     "metadata": {},
     "output_type": "execute_result"
    }
   ],
   "source": [
    "my_strf = StratifiedKFold(n_splits=5)\n",
    "my_strf.get_n_splits(data.iloc[:, :-1], data.iloc[:, -1])"
   ]
  },
  {
   "cell_type": "code",
   "execution_count": 7,
   "metadata": {
    "colab": {
     "autoexec": {
      "startup": false,
      "wait_interval": 0
     }
    },
    "colab_type": "code",
    "collapsed": true,
    "id": "j2awjtA4jrWK"
   },
   "outputs": [],
   "source": [
    "X = data.iloc[:, :-1]\n",
    "y = data.iloc[:, -1]"
   ]
  },
  {
   "cell_type": "code",
   "execution_count": 35,
   "metadata": {
    "colab": {
     "autoexec": {
      "startup": false,
      "wait_interval": 0
     }
    },
    "colab_type": "code",
    "id": "zGMtVEBHjw_4"
   },
   "outputs": [],
   "source": [
    "opt_depth = 3\n",
    "opt_est = 100\n",
    "opt_pred = 0"
   ]
  },
  {
   "cell_type": "code",
   "execution_count": 27,
   "metadata": {
    "scrolled": true
   },
   "outputs": [
    {
     "name": "stdout",
     "output_type": "stream",
     "text": [
      "0.23895370877385114\n",
      "0.23895370877385114\n",
      "0.23895370877385114\n",
      "0.23895370877385114\n",
      "0.23895370877385114\n",
      "0.23895370877385114\n",
      "0.23895370877385114\n",
      "0.23895370877385114\n",
      "0.23895370877385114\n",
      "0.23895370877385114\n",
      "0.23895370877385114\n",
      "0.23895370877385114\n",
      "0.23895370877385114\n",
      "0.23895370877385114\n",
      "0.23895370877385114\n",
      "0.24727855568664986\n",
      "0.2504636095148698\n",
      "0.25500248056887714\n",
      "0.25651975720352205\n",
      "0.25981858177414174\n",
      "0.2655946051095837\n",
      "0.2709592036365729\n",
      "0.278510398194422\n",
      "0.2802510368113921\n",
      "0.27830968585380855\n",
      "0.27953110910730383\n",
      "0.2785944159345916\n",
      "0.2831150273874732\n",
      "0.2792429413589823\n",
      "0.281947261663286\n",
      "0.27907249779864984\n",
      "0.2815599778202205\n",
      "0.28081405881997706\n",
      "0.282719836400818\n",
      "0.2768904499966863\n",
      "0.2805890227576975\n",
      "0.28403080013391363\n",
      "0.28479657387580304\n",
      "0.28538487622923026\n",
      "0.28274428274428276\n",
      "0.2810699588477366\n",
      "0.27904142973192525\n",
      "0.2800435019032082\n",
      "0.2782428225527499\n",
      "0.27920305676855894\n",
      "0.2835546475995914\n",
      "0.28853624810693357\n",
      "0.2898134863701578\n",
      "0.2876401494927923\n",
      "0.23895370877385114\n",
      "0.23895370877385114\n",
      "0.23895370877385114\n",
      "0.23895370877385114\n",
      "0.23895370877385114\n",
      "0.23895370877385114\n",
      "0.23895370877385114\n",
      "0.23895370877385114\n",
      "0.23895370877385114\n",
      "0.23895370877385114\n",
      "0.23895370877385114\n",
      "0.23895370877385114\n",
      "0.23895370877385114\n",
      "0.24454832046961625\n",
      "0.24910682386566627\n",
      "0.2525704885070603\n",
      "0.2552162790151853\n",
      "0.2623612010157845\n",
      "0.2652998304300909\n",
      "0.2632\n",
      "0.26121953556712557\n",
      "0.25214942187963235\n",
      "0.24526243484585236\n",
      "0.22495495495495496\n",
      "0.2229850465531835\n",
      "0.2168494516450648\n",
      "0.20720119163798859\n",
      "0.20175345938523295\n",
      "0.19810807872132216\n",
      "0.19695465077788815\n",
      "0.18555763877052442\n",
      "0.18355662429863734\n",
      "0.1817031798056466\n",
      "0.180773249738767\n",
      "0.18415392664070218\n",
      "0.18546072286333548\n",
      "0.18292682926829268\n",
      "0.17792402034101104\n",
      "0.1766822598056855\n",
      "0.1733301123324073\n",
      "0.1733171619163129\n",
      "0.1768566913820348\n",
      "0.17961165048543687\n",
      "0.17952584906798577\n",
      "0.1820042130604875\n",
      "0.1816648596554632\n",
      "0.18201608514240794\n",
      "0.18534119629317605\n",
      "0.18750752196413528\n",
      "0.23895370877385114\n",
      "0.23895370877385114\n",
      "0.23895370877385114\n",
      "0.23895370877385114\n",
      "0.23895370877385114\n",
      "0.23895370877385114\n",
      "0.23895370877385114\n",
      "0.23895370877385114\n",
      "0.23895370877385114\n",
      "0.23895370877385114\n",
      "0.23895370877385114\n",
      "0.23895370877385114\n",
      "0.23895370877385114\n",
      "0.24087810315997085\n",
      "0.2451541606807382\n",
      "0.25290854186661677\n",
      "0.2527527031048507\n",
      "0.25196046836394886\n",
      "0.25311810075407865\n",
      "0.24532095901005416\n",
      "0.25480523898622215\n",
      "0.260572728996776\n",
      "0.2606275953593904\n",
      "0.25647566718995296\n",
      "0.25182068295840754\n",
      "0.25220650465481803\n",
      "0.2484751203852327\n",
      "0.23554065381391448\n",
      "0.23115130847357107\n",
      "0.22732223432394585\n",
      "0.22504243795974457\n",
      "0.22427764590324956\n",
      "0.21973804955368317\n",
      "0.2196659850034083\n",
      "0.21830076611861926\n",
      "0.21119637251482384\n",
      "0.21224846894138233\n",
      "0.21510860962096565\n",
      "0.21547854192853297\n",
      "0.21614817478870704\n",
      "0.21732903687790905\n",
      "0.2181949981877492\n",
      "0.2206295926698721\n",
      "0.22250430682745487\n",
      "0.2242225859247136\n",
      "0.22038667513842242\n",
      "0.22109917877447882\n",
      "0.22499331967578162\n",
      "0.22448979591836732\n",
      "0.23895874139129333\n",
      "0.23895874139129333\n",
      "0.23895874139129333\n",
      "0.23895874139129333\n",
      "0.23895874139129333\n",
      "0.23895874139129333\n",
      "0.23895874139129333\n",
      "0.23895874139129333\n",
      "0.23895874139129333\n",
      "0.23895874139129333\n",
      "0.23895874139129333\n",
      "0.23895874139129333\n",
      "0.23895874139129333\n",
      "0.23964165733482645\n",
      "0.2439088061260007\n",
      "0.24674949436579025\n",
      "0.2490782466202376\n",
      "0.2518049280357725\n",
      "0.2539411807704491\n",
      "0.259092028569083\n",
      "0.2636335129279626\n",
      "0.2655221413450106\n",
      "0.26958714342133244\n",
      "0.27207067775843163\n",
      "0.27289485812100867\n",
      "0.2730444798265524\n",
      "0.27612466506839656\n",
      "0.27682333873581844\n",
      "0.2766116381564204\n",
      "0.2775592069736944\n",
      "0.278979169979329\n",
      "0.2798713614249196\n",
      "0.28176448410204846\n",
      "0.27969886436136276\n",
      "0.27892275718739173\n",
      "0.2796856683888334\n",
      "0.28367814106163347\n",
      "0.2844028676342018\n",
      "0.2843585081378332\n",
      "0.2778131538251615\n",
      "0.2802903909455743\n",
      "0.27929856524709634\n",
      "0.2799021384559623\n",
      "0.2796865032352137\n",
      "0.2785561082462465\n",
      "0.27800072966070777\n",
      "0.2776888238254266\n",
      "0.2808378588052754\n",
      "0.27737031604213896\n",
      "0.23895874139129333\n",
      "0.23895874139129333\n",
      "0.23895874139129333\n",
      "0.23895874139129333\n",
      "0.23895874139129333\n",
      "0.23895874139129333\n",
      "0.23895874139129333\n",
      "0.23895874139129333\n",
      "0.23895874139129333\n",
      "0.23895874139129333\n",
      "0.23895874139129333\n",
      "0.23895874139129333\n",
      "0.2390040444893832\n",
      "0.24433074621688416\n",
      "0.2513841495107455\n",
      "0.25892814909417716\n",
      "0.2625390899614555\n",
      "0.2636971046770601\n",
      "0.2742102331503143\n",
      "0.28174972501903717\n",
      "0.29652332152092714\n",
      "0.3119596836972999\n",
      "0.31317801885114704\n",
      "0.31326261267991434\n",
      "0.3160839160839161\n",
      "0.317538982231355\n",
      "0.3156552779194288\n",
      "0.30535180657430044\n",
      "0.30246473856674744\n",
      "0.30306535569693466\n",
      "0.2988505747126437\n",
      "0.2967166599108229\n",
      "0.2957230820436013\n",
      "0.28758169934640526\n",
      "0.2887901572112098\n",
      "0.28277234576447174\n",
      "0.2845289541918755\n",
      "0.28442600775543336\n",
      "0.2830341841796699\n",
      "0.2799493304379298\n",
      "0.2804194539866209\n",
      "0.28729281767955805\n",
      "0.28657137815422623\n",
      "0.28782158222846604\n",
      "0.29034582132564846\n",
      "0.2890547711125101\n",
      "0.2892213959322641\n",
      "0.2910414631980822\n",
      "0.29229547259729943\n"
     ]
    },
    {
     "data": {
      "image/png": "[encoded data removed]",
      "text/plain": [
       "<matplotlib.figure.Figure at 0x7f07dc3eb320>"
      ]
     },
     "metadata": {},
     "output_type": "display_data"
    }
   ],
   "source": [
    "for train_ind, test_ind in my_strf.split(X, y):\n",
    "    mass = []\n",
    "    xgb = xgboost.XGBClassifier(n_estimators=50, n_jobs=-1).fit(X.iloc[train_ind], y.iloc[train_ind])\n",
    "    for i in range(1, 50):\n",
    "        new_f1 = f1_score(pred_to_class(xgb.predict_proba(X.iloc[test_ind], ntree_limit=i), 0.171), y.iloc[test_ind])\n",
    "        print(new_f1)\n",
    "        mass.append(new_f1)\n",
    "    plt.plot(np.arange(1, 50), mass)\n",
    "    plt.plot()"
   ]
  },
  {
   "cell_type": "code",
   "execution_count": 33,
   "metadata": {
    "scrolled": true
   },
   "outputs": [
    {
     "name": "stdout",
     "output_type": "stream",
     "text": [
      "0.24765005513837104\n",
      "0.27075946374902915\n",
      "0.278510398194422\n",
      "0.28529760895370526\n",
      "0.28957127057445836\n",
      "0.2921573875802998\n",
      "0.2919526704582598\n",
      "0.29450972308115164\n",
      "0.2958085864585101\n",
      "0.19959584825939192\n",
      "0.2358816126020056\n",
      "0.24526243484585236\n",
      "0.248430709802028\n",
      "0.25858214912981\n",
      "0.26046066788873834\n",
      "0.24787943047561345\n",
      "0.2641291810841984\n",
      "0.2643551929714465\n",
      "0.2166871309127054\n",
      "0.2596869386707724\n",
      "0.2606275953593904\n",
      "0.2609676719461922\n",
      "0.27337828217262033\n",
      "0.2686553713049748\n",
      "0.27449728694541975\n",
      "0.2732481269281622\n",
      "0.2689110774217157\n",
      "0.2646188424798651\n",
      "0.2678187054721843\n",
      "0.26958714342133244\n",
      "0.26742583158525624\n",
      "0.27277696793002915\n",
      "0.27205094256352064\n",
      "0.27111422030017807\n",
      "0.2774357817384858\n",
      "0.28188008636439127\n",
      "0.2807139692385594\n",
      "0.31144236628697325\n",
      "0.31317801885114704\n",
      "0.3205212956842005\n",
      "0.32532761274075456\n",
      "0.3358427235674898\n",
      "0.33287342224947625\n",
      "0.3333685545224007\n",
      "0.3240684178375076\n"
     ]
    },
    {
     "data": {
      "image/png": "[encoded data removed]",
      "text/plain": [
       "<matplotlib.figure.Figure at 0x7f07dc0fa4e0>"
      ]
     },
     "metadata": {},
     "output_type": "display_data"
    }
   ],
   "source": [
    "for train_ind, test_ind in my_strf.split(X, y):\n",
    "    mass = []\n",
    "    for depth in range(1, 10):\n",
    "        xgb = xgboost.XGBClassifier(n_estimators=23, n_jobs=-1, max_depth=depth).fit(X.iloc[train_ind], y.iloc[train_ind])\n",
    "        new_f1 = f1_score(pred_to_class(xgb.predict_proba(X.iloc[test_ind]), 0.171), y.iloc[test_ind])\n",
    "        print(new_f1)\n",
    "        mass.append(new_f1)\n",
    "    plt.plot(np.arange(1, 10), mass)\n",
    "    plt.plot()"
   ]
  },
  {
   "cell_type": "code",
   "execution_count": 34,
   "metadata": {},
   "outputs": [],
   "source": [
    "xgb = xgboost.XGBClassifier(max_depth=8, n_estimators=23)"
   ]
  },
  {
   "cell_type": "code",
   "execution_count": 43,
   "metadata": {
    "colab": {
     "autoexec": {
      "startup": false,
      "wait_interval": 0
     }
    },
    "colab_type": "code",
    "id": "ip071IUNMnBh"
   },
   "outputs": [
    {
     "data": {
      "text/plain": [
       "XGBClassifier(base_score=0.5, booster='gbtree', colsample_bylevel=1,\n",
       "       colsample_bytree=1, gamma=0, learning_rate=0.1, max_delta_step=0,\n",
       "       max_depth=8, min_child_weight=1, missing=None, n_estimators=23,\n",
       "       n_jobs=1, nthread=None, objective='binary:logistic', random_state=0,\n",
       "       reg_alpha=0, reg_lambda=1, scale_pos_weight=1, seed=None,\n",
       "       silent=True, subsample=1)"
      ]
     },
     "execution_count": 43,
     "metadata": {},
     "output_type": "execute_result"
    }
   ],
   "source": [
    "samples = pd.read_csv('sample_submission.csv')\n",
    "xgb.fit(X, y)"
   ]
  },
  {
   "cell_type": "code",
   "execution_count": 45,
   "metadata": {
    "colab": {
     "autoexec": {
      "startup": false,
      "wait_interval": 0
     }
    },
    "colab_type": "code",
    "id": "UtSgF--TOkTY"
   },
   "outputs": [],
   "source": [
    "predicted = pred_to_class(xgb.predict_proba(test), 0.17)\n",
    "samples['mg'] = predicted\n",
    "samples.to_csv('new_ans.csv', index=False)"
   ]
  },
  {
   "cell_type": "code",
   "execution_count": null,
   "metadata": {
    "collapsed": true
   },
   "outputs": [],
   "source": []
  }
 ],
 "metadata": {
  "accelerator": "GPU",
  "colab": {
   "collapsed_sections": [],
   "default_view": {},
   "name": "Kaggle.ipynb",
   "provenance": [],
   "version": "0.3.2",
   "views": {}
  },
  "kernelspec": {
   "display_name": "Python 3",
   "language": "python",
   "name": "python3"
  },
  "language_info": {
   "codemirror_mode": {
    "name": "ipython",
    "version": 3
   },
   "file_extension": ".py",
   "mimetype": "text/x-python",
   "name": "python",
   "nbconvert_exporter": "python",
   "pygments_lexer": "ipython3",
   "version": "3.6.3"
  }
 },
 "nbformat": 4,
 "nbformat_minor": 1
}
